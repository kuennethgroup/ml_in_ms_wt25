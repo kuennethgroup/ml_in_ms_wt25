{
 "cells": [
  {
   "cell_type": "markdown",
   "metadata": {},
   "source": [
    "# Test your knowledge of Python"
   ]
  },
  {
   "cell_type": "markdown",
   "metadata": {},
   "source": [
    "<!--<badge>--><a href=\"https://colab.research.google.com/github/kuennethgroup/ml_in_ms_st25/blob/main/01_ex/evaluate_python_skills.ipynb\" target=\"_parent\"><img src=\"https://colab.research.google.com/assets/colab-badge.svg\" alt=\"Open In Colab\"/></a><!--</badge>-->"
   ]
  },
  {
   "cell_type": "markdown",
   "metadata": {},
   "source": [
    "### Question\n",
    "Task:\n",
    "\n",
    "- Merge the two lists\n",
    "- Split multiple word elements to single elements (`I am` -> `I`, `am`)\n",
    "- Remove punctuation\n",
    "- Count the number of words\n",
    "- Count the number of unique words\n",
    "\n",
    "l1 = ['torque', 'velocity', 'I am calculating load.']\n",
    "\n",
    "l2 = ['stress', 'strain', 'How', 'are', 'measurements', '?', 'I am', 'accurate']\n"
   ]
  },
  {
   "cell_type": "code",
   "execution_count": null,
   "metadata": {},
   "outputs": [],
   "source": []
  },
  {
   "cell_type": "markdown",
   "metadata": {},
   "source": [
    "### Question\n",
    "\n",
    "Write a Python function named `add_three_numbers` that takes three numeric inputs and returns their sum. `add_three_numbers` accepts three parameters: a, b, and c. After defining the function, call it with the numbers 5, 3, and 8. Print the results"
   ]
  },
  {
   "cell_type": "code",
   "execution_count": null,
   "metadata": {},
   "outputs": [],
   "source": []
  },
  {
   "cell_type": "markdown",
   "metadata": {},
   "source": [
    "### Question\n",
    "Use the Matplotlib library to create a figure with two subplots: \n",
    "1. one featuring a 45-degree line (from the origin (0,0) to the point (10,10)) and \n",
    "2. the other displaying a circle centered at the origin with a radius that ensures the circle fits within the view. \n",
    "\n",
    "Ensure both plots maintain equal axis proportions. Display the plot\n",
    "\n",
    "Hints: \n",
    "- use `plt.subplots` for subplots creation\n",
    "\n"
   ]
  },
  {
   "cell_type": "code",
   "execution_count": null,
   "metadata": {},
   "outputs": [],
   "source": []
  },
  {
   "cell_type": "markdown",
   "metadata": {},
   "source": [
    "### Question\n",
    "Practice using NumPy to perform matrix multiplication. Create two 3x3 matrices and multiply them."
   ]
  },
  {
   "cell_type": "code",
   "execution_count": null,
   "metadata": {},
   "outputs": [],
   "source": []
  },
  {
   "cell_type": "markdown",
   "metadata": {},
   "source": [
    "### Question\n",
    "Define a function that iterates over a list of string (['A', 'B', 'C', 'D'])\n",
    "and computes the sum of the integer Unicode code point value.\n",
    "\n",
    "Hint: use ord('A') to compute the integer Unicode code point value\n",
    "\n",
    "Also please include a simple test case of the function\n"
   ]
  },
  {
   "cell_type": "code",
   "execution_count": null,
   "metadata": {},
   "outputs": [],
   "source": []
  },
  {
   "cell_type": "markdown",
   "metadata": {},
   "source": [
    "### Question\n",
    "Define a class which has at least two methods:\n",
    "- print_string: to print the string in upper case.\n",
    "- modify_string: modify the string\n",
    "Please include a simple test function to test the class methods.\n",
    "\n",
    "Hints: Use the `__init__` method to construct some parameters"
   ]
  },
  {
   "cell_type": "code",
   "execution_count": null,
   "metadata": {},
   "outputs": [],
   "source": []
  }
 ],
 "metadata": {
  "kernelspec": {
   "display_name": ".venv",
   "language": "python",
   "name": "python3"
  },
  "language_info": {
   "codemirror_mode": {
    "name": "ipython",
    "version": 3
   },
   "file_extension": ".py",
   "mimetype": "text/x-python",
   "name": "python",
   "nbconvert_exporter": "python",
   "pygments_lexer": "ipython3",
   "version": "3.12.8"
  }
 },
 "nbformat": 4,
 "nbformat_minor": 2
}
