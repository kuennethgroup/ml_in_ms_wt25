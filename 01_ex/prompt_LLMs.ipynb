{
 "cells": [
  {
   "cell_type": "markdown",
   "metadata": {},
   "source": [
    "# Prompting a LLM - an engineer’s 2nd hand 👋 and 2nd brain 🧠\n",
    "\n",
    "Use https://www.perplexity.ai/ or https://chat.openai.com/ or https://gemini.google.com/"
   ]
  },
  {
   "cell_type": "markdown",
   "metadata": {},
   "source": [
    "### 1. Reorder and organize my notes (2nd 👋)\n",
    "\n",
    "- Be polite to the model!\n",
    "- Prompt the model to reorder and organize the notes. \n",
    "- Tell the model that you are a materials informatician and you goal is to develope a property predictive machine learning model for polymer. Ask fill the notes with the goal of polymer property prediction. \n",
    "- Tell the model to use sustainability and polymer research accelerative reasoning in the introduction\n",
    "\n",
    "Notes related to a master's thesis in materials informatics:\n",
    "1. Importance of materials informatics education for next generation materials scientists\n",
    "2. Review of applications of materials informatics for mechanical deformation and property prediction\n",
    "3. Gaps and barriers to adoption of practical materials informatics tools and workflows\n",
    "4. Overview of machine learning techniques used in materials informatics research\n",
    "5. Role of data, descriptors, and uncertainty quantification in materials informatics\n"
   ]
  },
  {
   "cell_type": "code",
   "execution_count": null,
   "metadata": {},
   "outputs": [],
   "source": []
  },
  {
   "cell_type": "markdown",
   "metadata": {},
   "source": [
    "### 2. Build a development strategy for your research project (2nd 🧠)\n",
    "\n",
    "Objective: \"fill research topic\"\n",
    "\n",
    "- Ask the model to explain the topic: \"Explain ...\"\n",
    "- Get the model to collect more information that might be useful to solve the task: \"Help me understand ...\"\n",
    "- Ask the model to do some task: \"Write a proposal about ...\", \"Write Python code to solve\n",
    "\n",
    "\n",
    "**Example:**\n",
    "\n",
    "Objective: Develope a machine learning model for the prediction of the glass transition temperature of polymers\n",
    "\n",
    "1. Explain the glass transition temperature of polymers\n",
    "2. Help me understand the correlation of the polymer chemical structure and the glass transition temperature.\n",
    "3. Help me understand the current dataset situation and find possible datasets with glass transition temperature and molecular weight.\n",
    "4. Help me understand the impact of fingerprinting and data fusion machine learning models for the prediction of glass transition temperature.\n",
    "5. Write a proposal about developing a machine learning model for the prediction of the glass transition temperature of polymers\n",
    "6. Write a Python code to solve this task\n",
    "7. Write a Python code to solve this task using Pytorch and develop a separate code to deploy this model using streamlit. Make sure you save the model after finishing the training.\n",
    "\n",
    "\n",
    "Do this for you own project. Save the input queries and try with perplexity, gemini, openAI, etc. \n",
    "\n"
   ]
  },
  {
   "cell_type": "code",
   "execution_count": null,
   "metadata": {},
   "outputs": [],
   "source": []
  },
  {
   "cell_type": "markdown",
   "metadata": {},
   "source": [
    "### 3. Home: try solve this with ollama models\n"
   ]
  },
  {
   "cell_type": "markdown",
   "metadata": {},
   "source": [
    "### 4. HOMEWORK: Watch the YT Videos\n",
    "\n",
    "- https://www.promptingguide.ai/introduction/elements\n",
    "- https://www.promptingguide.ai/introduction/tips\n",
    "- https://www.promptingguide.ai/introduction/examples\n",
    "\n",
    "Explore https://www.promptingguide.ai/\n"
   ]
  }
 ],
 "metadata": {
  "kernelspec": {
   "display_name": ".venv",
   "language": "python",
   "name": "python3"
  },
  "language_info": {
   "codemirror_mode": {
    "name": "ipython",
    "version": 3
   },
   "file_extension": ".py",
   "mimetype": "text/x-python",
   "name": "python",
   "nbconvert_exporter": "python",
   "pygments_lexer": "ipython3",
   "version": "3.10.12"
  }
 },
 "nbformat": 4,
 "nbformat_minor": 2
}
