{
  "cells": [
    {
      "cell_type": "markdown",
      "metadata": {},
      "source": [
        "# Python XYZ's"
      ]
    },
    {
      "cell_type": "markdown",
      "metadata": {},
      "source": [
        "\n",
        "<!--<badge>--><a href=\"https://colab.research.google.com/github/kuennethgroup/ml_in_ms_st25/blob/main/02_ex/python_xyzs.ipynb\" target=\"_parent\"><img src=\"https://colab.research.google.com/assets/colab-badge.svg\" alt=\"Open In Colab\"/></a><!--</badge>-->"
      ]
    },
    {
      "cell_type": "markdown",
      "metadata": {},
      "source": [
        "## List comprehension\n",
        "\n",
        "Use a list comprehension to append \"a\" to each item of `l`\n",
        "\n",
        "`l = range(6)`\n",
        "\n",
        "Result:\n",
        "\n",
        "`ll = [0a, 1a, 2a, 3a, 4a, 5a]`"
      ]
    },
    {
      "cell_type": "code",
      "execution_count": null,
      "metadata": {},
      "outputs": [
        {
          "data": {
            "text/plain": [
              "['0a', '1a', '2a', '3a', '4a', '5a']"
            ]
          },
          "execution_count": 2,
          "metadata": {},
          "output_type": "execute_result"
        }
      ],
      "source": []
    },
    {
      "cell_type": "markdown",
      "metadata": {},
      "source": [
        "## Dict comprehension\n",
        "Convert `ll` (from above) to a dictionary using a dict comprehension.\n",
        "\n",
        "The final dict must look like:\n",
        "\n",
        "`ll_dict = {0: 0a, 1:1a, 2:2a, 3:3a, 4:4a, 5:5a}`\n",
        "\n",
        "Hint: \n",
        "- Use `enumerate`"
      ]
    },
    {
      "cell_type": "code",
      "execution_count": 3,
      "metadata": {},
      "outputs": [
        {
          "data": {
            "text/plain": [
              "{0: '0a', 1: '1a', 2: '2a', 3: '3a', 4: '4a', 5: '5a'}"
            ]
          },
          "execution_count": 3,
          "metadata": {},
          "output_type": "execute_result"
        }
      ],
      "source": []
    },
    {
      "cell_type": "markdown",
      "metadata": {},
      "source": [
        "## Advanced dicts\n",
        "\n",
        "1. Create a table by looping `ll_dict` \n",
        "1. Format each dict item using F-strings. \n",
        "1. The number of spaces for each table cell must be adjustable (`sp`).\n",
        "\n",
        "\n",
        "Output for `sp = 5`:\n",
        "\n",
        "```\n",
        "|  Key  | Value |\n",
        "|     0 |    0a |\n",
        "|     1 |    1a |\n",
        "...\n",
        "```\n",
        "Output for `sp = 10`:\n",
        "\n",
        "```\n",
        "|    Key     |   Value    |\n",
        "|          0 |         0a |\n",
        "|          1 |         1a |\n",
        "...\n",
        "```\n",
        "\n"
      ]
    },
    {
      "cell_type": "code",
      "execution_count": 15,
      "metadata": {},
      "outputs": [
        {
          "name": "stdout",
          "output_type": "stream",
          "text": [
            "|    Key     |   Value    |\n",
            "|          0 |         0a |\n",
            "|          1 |         1a |\n",
            "|          2 |         2a |\n",
            "|          3 |         3a |\n",
            "|          4 |         4a |\n",
            "|          5 |         5a |\n"
          ]
        }
      ],
      "source": []
    },
    {
      "cell_type": "markdown",
      "metadata": {},
      "source": [
        "## Exceptions\n",
        "\n",
        "1. Catch the exception raised by executing `1/0`\n",
        "2. Print the error message instead of raising it\n",
        "\n",
        "Hint:\n",
        "- Use `try` / `except`"
      ]
    },
    {
      "cell_type": "code",
      "execution_count": 3,
      "metadata": {},
      "outputs": [
        {
          "name": "stdout",
          "output_type": "stream",
          "text": [
            "division by zero\n"
          ]
        }
      ],
      "source": []
    },
    {
      "cell_type": "markdown",
      "metadata": {},
      "source": [
        "## Pathlib and datetime\n",
        "1. Use `pathlib` and datetime to create a file (`datetime.txt`) that contains the current date and time\n",
        "1. Read the content of the file back to Python using the `pathlib` module\n",
        "1. Delete the file after reading it back (Use `Path().unlink()` to delete the file)\n",
        "\n",
        "\n"
      ]
    },
    {
      "cell_type": "code",
      "execution_count": 12,
      "metadata": {},
      "outputs": [
        {
          "name": "stdout",
          "output_type": "stream",
          "text": [
            "2023-10-24 13:54:10.642397\n"
          ]
        }
      ],
      "source": []
    },
    {
      "cell_type": "markdown",
      "metadata": {},
      "source": [
        "## Pandas\n",
        "\n",
        "\n",
        "1. Use pandas to read the file `https://raw.githubusercontent.com/kuennethgroup/colab_tutorials/main/lecture2/data/polymers_tend_to_crystalize.json` \n",
        "\n",
        "2. Plot a histogram showing the frequencies of property value. Use 40 bins. (`df.hist(...)`)\n"
      ]
    },
    {
      "cell_type": "code",
      "execution_count": 20,
      "metadata": {},
      "outputs": [
        {
          "data": {
            "text/html": [
              "<div>\n",
              "<style scoped>\n",
              "    .dataframe tbody tr th:only-of-type {\n",
              "        vertical-align: middle;\n",
              "    }\n",
              "\n",
              "    .dataframe tbody tr th {\n",
              "        vertical-align: top;\n",
              "    }\n",
              "\n",
              "    .dataframe thead th {\n",
              "        text-align: right;\n",
              "    }\n",
              "</style>\n",
              "<table border=\"1\" class=\"dataframe\">\n",
              "  <thead>\n",
              "    <tr style=\"text-align: right;\">\n",
              "      <th></th>\n",
              "      <th>smiles</th>\n",
              "      <th>property</th>\n",
              "      <th>value</th>\n",
              "      <th>fingerprint</th>\n",
              "    </tr>\n",
              "  </thead>\n",
              "  <tbody>\n",
              "    <tr>\n",
              "      <th>0</th>\n",
              "      <td>[*]C[*]</td>\n",
              "      <td>Xc</td>\n",
              "      <td>47.80</td>\n",
              "      <td>[0, 0, 0, 0, 0, 0, 0, 0, 0, 0, 0, 0, 0, 0, 0, ...</td>\n",
              "    </tr>\n",
              "    <tr>\n",
              "      <th>1</th>\n",
              "      <td>[*]CC([*])C</td>\n",
              "      <td>Xc</td>\n",
              "      <td>44.47</td>\n",
              "      <td>[0, 1, 0, 0, 0, 0, 0, 0, 0, 0, 0, 0, 0, 0, 0, ...</td>\n",
              "    </tr>\n",
              "    <tr>\n",
              "      <th>2</th>\n",
              "      <td>[*]CC([*])CC</td>\n",
              "      <td>Xc</td>\n",
              "      <td>34.04</td>\n",
              "      <td>[1, 1, 0, 0, 0, 0, 0, 0, 0, 0, 0, 0, 0, 0, 0, ...</td>\n",
              "    </tr>\n",
              "    <tr>\n",
              "      <th>3</th>\n",
              "      <td>[*]CC([*])CCC</td>\n",
              "      <td>Xc</td>\n",
              "      <td>20.01</td>\n",
              "      <td>[0, 1, 0, 0, 0, 0, 0, 0, 0, 0, 0, 0, 0, 0, 0, ...</td>\n",
              "    </tr>\n",
              "    <tr>\n",
              "      <th>4</th>\n",
              "      <td>[*]CC([*])CC(C)C</td>\n",
              "      <td>Xc</td>\n",
              "      <td>21.64</td>\n",
              "      <td>[0, 2, 0, 0, 0, 0, 0, 0, 0, 0, 0, 0, 0, 0, 0, ...</td>\n",
              "    </tr>\n",
              "    <tr>\n",
              "      <th>...</th>\n",
              "      <td>...</td>\n",
              "      <td>...</td>\n",
              "      <td>...</td>\n",
              "      <td>...</td>\n",
              "    </tr>\n",
              "    <tr>\n",
              "      <th>427</th>\n",
              "      <td>[*]C([*])(F)F</td>\n",
              "      <td>Xc</td>\n",
              "      <td>31.84</td>\n",
              "      <td>[0, 0, 0, 0, 0, 0, 0, 0, 0, 0, 0, 0, 0, 0, 0, ...</td>\n",
              "    </tr>\n",
              "    <tr>\n",
              "      <th>428</th>\n",
              "      <td>[*]C/C=C\\C[*]</td>\n",
              "      <td>Xc</td>\n",
              "      <td>25.58</td>\n",
              "      <td>[0, 0, 0, 0, 0, 0, 0, 0, 0, 0, 0, 0, 0, 0, 0, ...</td>\n",
              "    </tr>\n",
              "    <tr>\n",
              "      <th>429</th>\n",
              "      <td>[*]O[Si](C)(C)CCCC(=O)Oc1ccc(C=Nc2ccc(N=Cc3ccc...</td>\n",
              "      <td>Xc</td>\n",
              "      <td>29.05</td>\n",
              "      <td>[0, 0, 0, 0, 0, 0, 0, 0, 0, 0, 0, 0, 0, 0, 1, ...</td>\n",
              "    </tr>\n",
              "    <tr>\n",
              "      <th>430</th>\n",
              "      <td>[*]O[Si](C)(C)CCCC(=O)Oc1ccc(C=Nc2ccc(Cc3ccc(N...</td>\n",
              "      <td>Xc</td>\n",
              "      <td>21.74</td>\n",
              "      <td>[0, 0, 0, 0, 0, 0, 0, 0, 0, 0, 0, 0, 0, 0, 1, ...</td>\n",
              "    </tr>\n",
              "    <tr>\n",
              "      <th>431</th>\n",
              "      <td>[*]CCN(CCCCCCOc1ccc(C=Cc2ccc([N+](=O)[O-])cc2)...</td>\n",
              "      <td>Xc</td>\n",
              "      <td>7.55</td>\n",
              "      <td>[0, 0, 0, 0, 0, 0, 0, 0, 0, 0, 0, 0, 0, 3, 0, ...</td>\n",
              "    </tr>\n",
              "  </tbody>\n",
              "</table>\n",
              "<p>432 rows \u00d7 4 columns</p>\n",
              "</div>"
            ],
            "text/plain": [
              "                                                smiles property  value   \n",
              "0                                              [*]C[*]       Xc  47.80  \\\n",
              "1                                          [*]CC([*])C       Xc  44.47   \n",
              "2                                         [*]CC([*])CC       Xc  34.04   \n",
              "3                                        [*]CC([*])CCC       Xc  20.01   \n",
              "4                                     [*]CC([*])CC(C)C       Xc  21.64   \n",
              "..                                                 ...      ...    ...   \n",
              "427                                      [*]C([*])(F)F       Xc  31.84   \n",
              "428                                      [*]C/C=C\\C[*]       Xc  25.58   \n",
              "429  [*]O[Si](C)(C)CCCC(=O)Oc1ccc(C=Nc2ccc(N=Cc3ccc...       Xc  29.05   \n",
              "430  [*]O[Si](C)(C)CCCC(=O)Oc1ccc(C=Nc2ccc(Cc3ccc(N...       Xc  21.74   \n",
              "431  [*]CCN(CCCCCCOc1ccc(C=Cc2ccc([N+](=O)[O-])cc2)...       Xc   7.55   \n",
              "\n",
              "                                           fingerprint  \n",
              "0    [0, 0, 0, 0, 0, 0, 0, 0, 0, 0, 0, 0, 0, 0, 0, ...  \n",
              "1    [0, 1, 0, 0, 0, 0, 0, 0, 0, 0, 0, 0, 0, 0, 0, ...  \n",
              "2    [1, 1, 0, 0, 0, 0, 0, 0, 0, 0, 0, 0, 0, 0, 0, ...  \n",
              "3    [0, 1, 0, 0, 0, 0, 0, 0, 0, 0, 0, 0, 0, 0, 0, ...  \n",
              "4    [0, 2, 0, 0, 0, 0, 0, 0, 0, 0, 0, 0, 0, 0, 0, ...  \n",
              "..                                                 ...  \n",
              "427  [0, 0, 0, 0, 0, 0, 0, 0, 0, 0, 0, 0, 0, 0, 0, ...  \n",
              "428  [0, 0, 0, 0, 0, 0, 0, 0, 0, 0, 0, 0, 0, 0, 0, ...  \n",
              "429  [0, 0, 0, 0, 0, 0, 0, 0, 0, 0, 0, 0, 0, 0, 1, ...  \n",
              "430  [0, 0, 0, 0, 0, 0, 0, 0, 0, 0, 0, 0, 0, 0, 1, ...  \n",
              "431  [0, 0, 0, 0, 0, 0, 0, 0, 0, 0, 0, 0, 0, 3, 0, ...  \n",
              "\n",
              "[432 rows x 4 columns]"
            ]
          },
          "metadata": {},
          "output_type": "display_data"
        },
        {
          "data": {
            "image/png": "[encoded data removed]",
            "text/plain": [
              "<Figure size 640x480 with 1 Axes>"
            ]
          },
          "metadata": {},
          "output_type": "display_data"
        }
      ],
      "source": []
    }
  ],
  "metadata": {
    "kernelspec": {
      "display_name": "Python 3",
      "language": "python",
      "name": "python3"
    },
    "language_info": {
      "codemirror_mode": {
        "name": "ipython",
        "version": 3
      },
      "file_extension": ".py",
      "mimetype": "text/x-python",
      "name": "python",
      "nbconvert_exporter": "python",
      "pygments_lexer": "ipython3",
      "version": "3.10.12"
    }
  },
  "nbformat": 4,
  "nbformat_minor": 2
}