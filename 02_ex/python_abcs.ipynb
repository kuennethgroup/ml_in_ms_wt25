{
  "cells": [
    {
      "cell_type": "markdown",
      "metadata": {},
      "source": [
        "# Python's ABC\n",
        "\n",
        "<!--<badge>--><a href=\"https://colab.research.google.com/github/kuennethgroup/ml_in_ms_st25/blob/main/02_ex/python_abcs.ipynb\" target=\"_parent\"><img src=\"https://colab.research.google.com/assets/colab-badge.svg\" alt=\"Open In Colab\"/></a><!--</badge>-->\n",
        "\n",
        "Test your Python's ABCs."
      ]
    },
    {
      "cell_type": "markdown",
      "metadata": {},
      "source": [
        "### Question\n",
        "\n",
        "Write a function that sums the list `l = [1,2,3,4]`"
      ]
    },
    {
      "cell_type": "code",
      "execution_count": 2,
      "metadata": {},
      "outputs": [
        {
          "data": {
            "text/plain": [
              "10"
            ]
          },
          "execution_count": 2,
          "metadata": {},
          "output_type": "execute_result"
        }
      ],
      "source": []
    },
    {
      "cell_type": "markdown",
      "metadata": {},
      "source": [
        "### Question\n",
        "\n",
        "`l = [[10, 20], [3, 1,], [2, 3], [10, 20], [2, 3]]`\n",
        "\n",
        "Remove duplicates from this list"
      ]
    },
    {
      "cell_type": "code",
      "execution_count": 8,
      "metadata": {},
      "outputs": [
        {
          "data": {
            "text/plain": [
              "[[10, 20], [3, 1], [2, 3]]"
            ]
          },
          "execution_count": 8,
          "metadata": {},
          "output_type": "execute_result"
        }
      ],
      "source": []
    },
    {
      "cell_type": "markdown",
      "metadata": {},
      "source": [
        "### Question\n",
        "\n",
        "`d = {\"Name\": \"David\", \"Class\": \"I\", \"Age\": 620, \"list\": [\"peter\", \"thomas\"]}`\n",
        "\n",
        "Save `d` to a json file \"my_json_file.json\".\n",
        "\n",
        "Read the \"my_json_file.json\" file back to Python.\n",
        "\n",
        "Hint: \n",
        "- Use `import json`, `json.dump` and `json.load` "
      ]
    },
    {
      "cell_type": "code",
      "execution_count": 7,
      "metadata": {},
      "outputs": [
        {
          "name": "stdout",
          "output_type": "stream",
          "text": [
            "{\"Name\": \"David\", \"Class\": \"I\", \"Age\": 620, \"list\": [\"peter\", \"thomas\"]}"
          ]
        },
        {
          "data": {
            "text/plain": [
              "{'Name': 'David', 'Class': 'I', 'Age': 620, 'list': ['peter', 'thomas']}"
            ]
          },
          "execution_count": 7,
          "metadata": {},
          "output_type": "execute_result"
        }
      ],
      "source": []
    },
    {
      "cell_type": "markdown",
      "metadata": {},
      "source": [
        "### Question\n",
        "\n",
        "Generate 10 random numbers.\n",
        "\n",
        "Write these random numbers to a dictionary. Use 1,2,3,4, ... as keys of the dict.\n",
        "\n",
        "Hint: \n",
        "- Use `import random`\n",
        "- Set `random.seed(10)` to make random numbers reproducible "
      ]
    },
    {
      "cell_type": "code",
      "execution_count": 1,
      "metadata": {},
      "outputs": [
        {
          "data": {
            "text/plain": [
              "{0: 0.5714025946899135,\n",
              " 1: 0.4288890546751146,\n",
              " 2: 0.5780913011344704,\n",
              " 3: 0.20609823213950174,\n",
              " 4: 0.81332125135732,\n",
              " 5: 0.8235888725334455,\n",
              " 6: 0.6534725339011758,\n",
              " 7: 0.16022955651881965,\n",
              " 8: 0.5206693596399246,\n",
              " 9: 0.32777281162209315}"
            ]
          },
          "execution_count": 1,
          "metadata": {},
          "output_type": "execute_result"
        }
      ],
      "source": []
    },
    {
      "cell_type": "markdown",
      "metadata": {},
      "source": [
        "### Question\n",
        "\n",
        "Find two different ways to create a 3x3 matrix using `numpy` that looks like:\n",
        "```\n",
        "[\n",
        " [1, 2, 3],\n",
        " [4, 5, 6],\n",
        " [7, 8, 9],\n",
        "]\n",
        "```"
      ]
    },
    {
      "cell_type": "code",
      "execution_count": 3,
      "metadata": {},
      "outputs": [
        {
          "data": {
            "text/plain": [
              "array([[1, 2, 3],\n",
              "       [4, 5, 6],\n",
              "       [7, 8, 9]])"
            ]
          },
          "execution_count": 3,
          "metadata": {},
          "output_type": "execute_result"
        }
      ],
      "source": []
    }
  ],
  "metadata": {
    "kernelspec": {
      "display_name": "Python 3",
      "language": "python",
      "name": "python3"
    },
    "language_info": {
      "codemirror_mode": {
        "name": "ipython",
        "version": 3
      },
      "file_extension": ".py",
      "mimetype": "text/x-python",
      "name": "python",
      "nbconvert_exporter": "python",
      "pygments_lexer": "ipython3",
      "version": "3.10.12"
    }
  },
  "nbformat": 4,
  "nbformat_minor": 2
}